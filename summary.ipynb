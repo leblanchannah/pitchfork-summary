{
 "cells": [
  {
   "cell_type": "code",
   "execution_count": 182,
   "metadata": {},
   "outputs": [],
   "source": [
    "import pandas as pd\n",
    "import numpy as np\n",
    "import re, string\n",
    "import matplotlib.pyplot as plt\n",
    "import lyricsgenius as genius"
   ]
  },
  {
   "cell_type": "code",
   "execution_count": 172,
   "metadata": {},
   "outputs": [],
   "source": [
    "df = pd.read_csv('full.csv',index_col='Unnamed: 0')"
   ]
  },
  {
   "cell_type": "code",
   "execution_count": 173,
   "metadata": {},
   "outputs": [
    {
     "name": "stdout",
     "output_type": "stream",
     "text": [
      "Dataset shape (20758, 9)\n",
      "<class 'pandas.core.frame.DataFrame'>\n",
      "Int64Index: 20758 entries, 0 to 20757\n",
      "Data columns (total 9 columns):\n",
      "abstract     20411 non-null object\n",
      "album        20755 non-null object\n",
      "artist       20757 non-null object\n",
      "full text    20753 non-null object\n",
      "genre        18456 non-null object\n",
      "link         20758 non-null object\n",
      "published    20758 non-null object\n",
      "score        20758 non-null float64\n",
      "year         20689 non-null object\n",
      "dtypes: float64(1), object(8)\n",
      "memory usage: 1.6+ MB\n"
     ]
    }
   ],
   "source": [
    "print('Dataset shape', df.shape)\n",
    "df.info()\n"
   ]
  },
  {
   "cell_type": "code",
   "execution_count": 174,
   "metadata": {},
   "outputs": [],
   "source": [
    "#year column\n",
    "#range, special characters\n",
    "#remove anything thats not a number or a /\n",
    "nochar = re.compile(r'[^\\d//]+')\n",
    "df.year = df.year.astype(str).apply(lambda x: nochar.sub('', x))\n"
   ]
  },
  {
   "cell_type": "code",
   "execution_count": 175,
   "metadata": {},
   "outputs": [
    {
     "name": "stdout",
     "output_type": "stream",
     "text": [
      "abstract     \"How about not hitting it, but kind of doing i...\n",
      "album                                         Everything Is EP\n",
      "artist                                      Neutral Milk Hotel\n",
      "full text    \"How about not hitting it, but kind of doing i...\n",
      "genre                                                     Rock\n",
      "link                    /reviews/albums/5759-everything-is-ep/\n",
      "published                                  2001-10-03T05:00:02\n",
      "score                                                        6\n",
      "year                                                 1995/2001\n",
      "Name: 20021, dtype: object\n"
     ]
    }
   ],
   "source": [
    "# ____ / ____ second date is publish year\n",
    "print(df.iloc[20021])\n",
    "\n",
    "def dateSplit(x):\n",
    "    if '/' in x:\n",
    "        temp = x.split('/')\n",
    "        x = temp[0]\n",
    "    if x == '':\n",
    "        x = 1900\n",
    "    return x\n",
    "\n",
    "# if date contains /, split and use [0]\n",
    "\n",
    "# /reviews/albums/2290-1s/ - no date because greatest hits album"
   ]
  },
  {
   "cell_type": "code",
   "execution_count": 176,
   "metadata": {},
   "outputs": [],
   "source": [
    "df.year = df.year.apply(dateSplit)\n",
    "df.year = df.year.astype(int)\n"
   ]
  },
  {
   "cell_type": "code",
   "execution_count": 177,
   "metadata": {},
   "outputs": [
    {
     "name": "stdout",
     "output_type": "stream",
     "text": [
      "Missing reviews 5\n"
     ]
    }
   ],
   "source": [
    "print(\"Missing reviews\", df['full text'].isna().sum())\n",
    "#drop rows missing reviews\n",
    "df = df[df['full text'].notnull()]\n",
    "df = df[df['artist'].notnull()]\n",
    "df = df[df['album'].notnull()]"
   ]
  },
  {
   "cell_type": "code",
   "execution_count": 181,
   "metadata": {},
   "outputs": [
    {
     "name": "stdout",
     "output_type": "stream",
     "text": [
      "(0, 9)\n"
     ]
    },
    {
     "data": {
      "image/png": "[encoded data removed]",
      "text/plain": [
       "<matplotlib.figure.Figure at 0x10e733208>"
      ]
     },
     "metadata": {
      "needs_background": "light"
     },
     "output_type": "display_data"
    }
   ],
   "source": [
    "df.year.hist(bins=119)\n",
    "# num of values missing year\n",
    "# missing years - throwbacks\n",
    "print(df[df.year==0].shape)\n",
    "\n"
   ]
  },
  {
   "cell_type": "code",
   "execution_count": 179,
   "metadata": {},
   "outputs": [
    {
     "name": "stdout",
     "output_type": "stream",
     "text": [
      "[1900 1957 1959 1960 1962 1963 1964 1965 1966 1967 1968 1969 1970 1971\n",
      " 1972 1973 1974 1975 1976 1977 1978 1979 1980 1981 1982 1983 1984 1985\n",
      " 1986 1987 1988 1989 1990 1991 1992 1993 1994 1995 1996 1997 1998 1999\n",
      " 2000 2001 2002 2003 2004 2005 2006 2007 2008 2009 2010 2011 2012 2013\n",
      " 2014 2015 2016 2017 2018]\n"
     ]
    }
   ],
   "source": [
    "#df[df.year!=0][4000:5000]\n",
    "years = df.year.unique()\n",
    "years.sort()\n",
    "print(years)"
   ]
  },
  {
   "cell_type": "code",
   "execution_count": null,
   "metadata": {},
   "outputs": [],
   "source": [
    "api = genius.Genius('')"
   ]
  }
 ],
 "metadata": {
  "kernelspec": {
   "display_name": "Python 3",
   "language": "python",
   "name": "python3"
  },
  "language_info": {
   "codemirror_mode": {
    "name": "ipython",
    "version": 3
   },
   "file_extension": ".py",
   "mimetype": "text/x-python",
   "name": "python",
   "nbconvert_exporter": "python",
   "pygments_lexer": "ipython3",
   "version": "3.6.7"
  }
 },
 "nbformat": 4,
 "nbformat_minor": 2
}
