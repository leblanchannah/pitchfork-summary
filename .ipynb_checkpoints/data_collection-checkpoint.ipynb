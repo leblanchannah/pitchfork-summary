{
 "cells": [
  {
   "cell_type": "markdown",
   "metadata": {},
   "source": [
    "## Pitchfork Reviews \n",
    "\n",
    "- Using pitchfork-api (https://github.com/tejassharma96/pitchfork_api/) to download reviews\n",
    "    - unfortunately, this doesn't let you fet X amount of reviews for data collection\n",
    "- there is a dataset on kaggle of pitchfork reviews from 2017 (https://www.kaggle.com/nolanbconaway/pitchfork-data/home 18.4k reviews) but I want to look at music from 2018.\n",
    "- I plan to eventually add this updated dataset to kaggle.\n",
    "\n",
    "\n"
   ]
  },
  {
   "cell_type": "code",
   "execution_count": 1,
   "metadata": {},
   "outputs": [],
   "source": [
    "import pandas as pd\n",
    "import numpy as np\n",
    "import matplotlib.pyplot as plt\n",
    "import pitchfork_api\n",
    "\n",
    "import urllib\n",
    "from bs4 import BeautifulSoup"
   ]
  },
  {
   "cell_type": "code",
   "execution_count": 2,
   "metadata": {},
   "outputs": [],
   "source": [
    "p = pitchfork_api.search('kanye west', 'my beautiful') # the title is autocompleted"
   ]
  },
  {
   "cell_type": "code",
   "execution_count": 3,
   "metadata": {},
   "outputs": [
    {
     "name": "stdout",
     "output_type": "stream",
     "text": [
      "Score  10.0\n",
      "Abstract,  Kanye's big year culminates in an LP that feels like an instant greatest hits, the ultimate realization of his strongest talents and divisive public persona.\n",
      "\n",
      "Full Text,  Kanye's big year culminates in an LP that feels like an instant greatest hits, the ultimate realization of his strongest talents and divisive public persona.\n",
      "Kanye West's 35-minute super-video, Runaway, peaks with a parade. Fireworks flash while red hoods march through a field. At the center of the spectacle is a huge, pale, cartoonish rendering of Michael Jackson's head. My Beautiful Dark Twisted Fantasy's gargantuan \"All of the Lights\" soundtracks the procession, with Kanye pleading, \"Something wrong, I hold my head/ MJ gone, our nigga dead.\" The tribute marks another chapter in West's ongoing obsession with the King of Pop.\n",
      "West's discography contains innumerable references and allusions to Jackson. His first hit as a producer, Jay-Z's \"Izzo (H.O.V.A.)\", sampled the Jackson 5's \"I Want You Back\". For many, his first memorable lines as a rapper came during 2003's \"Slow Jamz\": \"She got a light-skinned friend look like Michael Jackson/ Got a dark-skinned friend look like Michael Jackson.\" And when West's recent interview with Matt Lauer on the \"Today\" show went awry, he took to Twitter, writing, \"I wish Michael Jackson had twitter!!!!!! Maybe Mike could have explained how the media tried to set him up!!! It's all a fucking set up!!!!\" Like most everything else, Kanye may exaggerate the kinship, but it's real. And it's never more apparent than on Twisted Fantasy, a blast of surreal pop excess that few artists are capable of creating, or even willing to attempt.\n",
      "To be clear, Kanye West is not Michael Jackson. As he told MTV last month, \"I do have a goal in this lifetime to be the greatest artist of all time, [but] that's very difficult being that I can't dance or sing.\" He ended the thought with a laugh, but you get the impression he's not kidding. Unlike Michael, he's not interested in scrubbing away bits of himself-- his blackness, his candidness-- to appease the masses. And while Jackson's own twisted fantasies of paranoia and betrayal eventually consumed him whole, West is still aware of his illusions, though that mindfulness becomes increasingly unmoored with each newspaper-splashing controversy. The balance is tenuous, but right now it's working to his advantage. On Twisted Fantasy, Kanye is crazy enough to truly believe he's the greatest out there. And, about a decade into his career, the hardworking perfectionist has gained the talent on the mic and in the control room to make a startlingly strong case for just that.\n",
      "Kanye's last album, 2008's 808s and Heartbreak, was heavy on the Auto-Tune and stark synths, but relatively light on grandiose ideas. It was a necessary detour that expanded his emotional palette; a bloodletting after a harsh breakup and the passing of his mother that manifests itself in Twisted Fantasy's harshest lows. But musically, the new album largely continues where 2007's Graduation left off in its maximalist hip-hop bent, with flashes of The College Dropout's comfort-food sampling and Late Registration's baroque instrumentation weaved in seamlessly. As a result, the record comes off like a culmination and an instant greatest hits, the ultimate realization of his strongest talents and divisive public persona. And since the nerd-superstar rap archetype he popularized has now become commonplace, he leaves it in the dust, taking his style and drama to previously uncharted locales, far away from typical civilization.\n",
      "He's got a lot on his mind, too. After exiling himself for months following last year's infamous Taylor Swift stage bomb, the rapper made some of his first comeback appearances at the headquarters of Facebook and Twitter in late July. Videos of West standing on a table in tailored GQ duds while gesticulating through new rhymes (sans musical accompaniment) quickly made the rounds. The Silicon Valley visits seemed like a stunt, but they were prophetic. Forever an over-sharer, Kanye was looking for an outlet for his latest mirror-born musings. He found that platform with Twitter, and proceeded to dictate his own narrative in 140 character hits. Whether showing off exotic purchases, defending himself against the press, or going on stream-of-consciousness rants, Kanye finally had the middleman-free, instant-gratification platform he'd always wanted.\n",
      "Juiced on the direct connection, he began releasing weekly songs for free online, the generosity of which would be moot if the songs didn't deliver. But they did, over and over, eventually building up the same type of superstar goodwill Radiohead pulled off with their pay-what-you-want In Rainbows release plan and Lil Wayne's free mixtape barrage leading up to 2008's Tha Carter III. So while Kanye can't sing or dance like Michael, he's making meaningful connections in a fresh, oftentimes (ahem) naked way. \"When I used to finish an album I would be so excited for my mom to hear the final - final!\" he wrote on November 11. \"The final - final is what we used to call the... completed album with all the skits!!! I made songs to please one person... MY MOM!!! I would think... would my my Mom like this song!\"\n",
      "I'm not sure which song he's talking about. Because, between July and November, West seemingly decided to make My Beautiful Dark Twisted Fantasy less mom-friendly and more of a hedonistic exploration into a rich and famous American id. At Facebook, he rapped the first verse of what would become album closer \"Lost in the World\", at one point changing Michael Jackson's \"Wanna Be Startin' Something\" refrain to, \"Mama-say mama-sah Mama Donda's son,\" referring to his late mother. The familial allusion was left off the album. Another Facebook tune-- a brutally oedipal account called \"Mama's Boyfriend\"-- was also deleted, along with the vintage-Kanye-sounding \"See Me Now\". Such exclusions speak to the album's sharp focus-- to move everything forward while constantly tipping on the brink of frantic instability.\n",
      "This isn't the same resourceful prodigy who made The College Dropout or even the wounded soul behind 808s and Heartbreak. Instead, Kanye's Twisted Fantasy incarnation cherry-picks little things from his previous work and blows them up into something less than sane. The expansive, all-encompassing nature of the album is borne out in its staggering guest list which includes mentors Jay-Z, RZA, and No ID, along with new charges like Nicki Minaj, Rick Ross, Kid Cudi, and Bon Iver's Justin Vernon. The inclusion of Minaj (who contributes the schizoid verse of her life on \"Monster\"), Ross (a guy known for making up his own reality as he goes), and Cudi (who's probably even more wildly self-destructive than Kanye) especially adds to the hallucinatory tone. By the time Chris Rock shows up to provide comic relief during one of the album's bleakest moments, it begins to feel as if Kanye is stage-managing his own award show with enough starpower, shock, and dynamism to flatten the Grammys, the VMAs, and the rest all at once.\n",
      "Over the past few months, Kanye has intermittently tried to flush away his rep as a boorish egoist in interviews and on Twitter, which is, fortunately, impossible. Because without his exploding self-worth-- itself a cyclical reaction to the self-doubt so much of his music explores-- there would be no Twisted Fantasy. \"Every superhero needs his theme music,\" he says on \"POWER\", and though he's far from the virtuous paragons of comic book lore, he's no less complex. In his public life, he exhibits vulnerability and invincibility in equal measure, but he's just as apt at villainy-- especially here.\n",
      "With \"Runaway\", he rousingly highlights his own douchebaggery, turning it into a rallying cry for all humanity. Like many of his greatest songs, it's funny, sad, and perversely relatable. And while the royal horns and martial drums of \"All of the Lights\" make it sound like the ideal outlet for the most over-the-top boasts imaginable, West instead inhabits the role of an abusive deadbeat desperate to make good on a million blown promises. \"Hell of a Life\" attempts to bend its central credo-- \"no more drugs for me, pussy and religion is all I need\"-- into a noble pursuit. As a woofer-mulching synth line lurks, Kanye justifies his dreams of not sleeping with but marrying a porn star, peaking with the combative taunt, \"How can you say they live they life wrong/ When you never fuck with the lights on.\" Inspired by his two-year relationship with salacious model Amber Rose, the song blurs the line between fantasy and reality, sex and romance, love and religion, until no lines exist at all. It's a zonked nirvana with demons underneath; a fragile state that can't help but break apart on the very next song.\n",
      "The haunted, Aphex Twin-sampling \"Blame Game\" bottoms out with a verse in which Kanye's voice is sped up, slowed down and stretched out. The effect is almost psychotic, suggesting three or four inner monologues fighting over smashed emotions. It's one of many moments on the record where West manipulates his vocals. Whether funneling some of his best-ever rhymes through a tinny, Strokes-like filter on \"Gorgeous\" or making himself wail like a dying cyborg in the final minutes of \"Runaway\", he uses studio wizardry to draw out his multitudes. Tellingly, though, he doesn't get the last word on the album. That distinction goes to the sobering tones of Gil Scott-Heron's 1970 spoken-word piece \"Comment #1\", a stark take on the American fable. \"All I want is a good home and a wife and children and some food to feed them every night,\" says Scott-Heron, bringing the fantasy to a close.\n",
      "On \"POWER\", Kanye raps, \"My childlike creativity, purity, and honesty is honestly being crowded by these grown thoughts/ Reality is catching up with me, taking my inner child, I'm fighting for custody.\" The lines nail another commonality between the rapper and his hero. Like Michael, Kanye's behavior-- from the poorly planned outbursts to the musical brilliance-- is wide-eyed in a way that most 33 year olds have long left behind. That naivety is routinely battered on Twisted Fantasy, yet it survives, better for the wear. With his music and persona both marked by a flawed honesty, Kanye's man-myth dichotomy is at once modern and truly classic. \"I can't be everybody's hero and villain, savior and sinner, Christian and anti Christ!\" he wrote earlier this month. That may be true, but he's more willing than anyone else to try.\n",
      "\n",
      "Artist,  Kanye West\n",
      "Album,  My Beautiful Dark Twisted Fantasy\n",
      "Label,  Roc-A-Fella / Def Jam\n",
      "Year,  2010\n",
      "Length editorial,  10198\n",
      "Length full text,  10356\n"
     ]
    }
   ],
   "source": [
    "# Printing stats for album review\n",
    "print(\"Score \", p.score())\n",
    "print(\"Abstract, \", p.abstract())\n",
    "# print(\"Editorial, \", p.editorial())\n",
    "print(\"Full Text, \", p.full_text())\n",
    "# # Ideally .cover() should get a link to cover art but this seems to not work?\n",
    "# print(\"Cover Link, \", p.cover())\n",
    "print(\"Artist, \", p.artist())\n",
    "print(\"Album, \", p.album())\n",
    "print(\"Label, \", p.label())\n",
    "print(\"Year, \", p.year())\n",
    "# Only 200 characters difference in length\n",
    "print(\"Length editorial, \", len(p.editorial()))\n",
    "print(\"Length full text, \", len(p.full_text()))"
   ]
  },
  {
   "cell_type": "markdown",
   "metadata": {},
   "source": [
    "## Data Collection / Web Scraping\n"
   ]
  },
  {
   "cell_type": "code",
   "execution_count": 4,
   "metadata": {},
   "outputs": [],
   "source": [
    "# this page is infinite \n",
    "url = \"https://pitchfork.com/reviews/albums/\"\n",
    "baseUrl = \"https://pitchfork.com\"\n",
    "# https://pitchfork.com/reviews/albums/?page=1\n",
    "\n",
    "# each review has artist-name-album-name in url\n",
    "# \"https://pitchfork.com/reviews/albums/avril-lavigne-let-go/\"\n",
    "\n",
    "# query the website and return the html to the variable ‘page’\n",
    "page = urllib.request.urlopen(url)\n",
    "\n",
    "# parse the html using beautiful soup and store in variable `soup`\n",
    "soup = BeautifulSoup(page, 'html.parser')\n",
    "\n"
   ]
  },
  {
   "cell_type": "code",
   "execution_count": 5,
   "metadata": {},
   "outputs": [],
   "source": [
    "# Gets metadata for one review and returns it as a dictionary\n",
    "def getReviewData(review):\n",
    "    data = {}\n",
    "    data['album'] = review.find(\"h2\", {\"class\": \"review__title-album\"}).text\n",
    "    data['artist'] = review.find(\"ul\", {\"class\": \"artist-list review__title-artist\"}).li.text\n",
    "    try:\n",
    "        data['genre'] = review.find(\"li\", {\"class\": \"genre-list__item\"}).text\n",
    "    except:\n",
    "        data['genre'] = \"\"\n",
    "    data['link'] = review.find(\"a\", {\"class\": \"review__link\"}).get('href')\n",
    "    data['published'] = review.find(\"time\", {\"class\": \"pub-date\"}).get('datetime')\n",
    "    data['full text'] = \"\"\n",
    "    data['score'] = 0\n",
    "    data['year'] = 0\n",
    "    data['abstract'] = \"\"\n",
    "    return data\n",
    "\n",
    "# fetches n pages of reviews and returns in list\n",
    "def scanReviews(n=10):\n",
    "    metadata = []\n",
    "    # Loop through recent reviews within page\n",
    "    for i in range(n):\n",
    "        if i%100==0:\n",
    "            print(i)\n",
    "        tempURL = \"https://pitchfork.com/reviews/albums/?page=\"+str(i+1)\n",
    "        #print(tempURL)\n",
    "        page = urllib.request.urlopen(tempURL)\n",
    "        soup = BeautifulSoup(page, 'html.parser')\n",
    "        reviews = soup.findAll(\"div\", {\"class\": \"review\"})\n",
    "        for review in reviews:\n",
    "            metadata.append(getReviewData(review))\n",
    "    print(\"n: \", n)\n",
    "    print(\"reviews fetched: \", len(metadata))\n",
    "    return metadata "
   ]
  },
  {
   "cell_type": "code",
   "execution_count": 6,
   "metadata": {},
   "outputs": [
    {
     "name": "stdout",
     "output_type": "stream",
     "text": [
      "12\n",
      "<div class=\"review\">\n",
      " <a class=\"review__link\" href=\"/reviews/albums/power-trip-opening-fire-2008-2014/\">\n",
      "  <div class=\"review__artwork artwork\">\n",
      "   <div class=\"\">\n",
      "    <img alt=\"Cover of Opening Fire 2008-2014\" src=\"https://media.pitchfork.com/photos/5c11645b7cf9c54cdbe36ad7/1:1/w_160/power%20trip_opening%20fire.jpg\"/>\n",
      "   </div>\n",
      "  </div>\n",
      "  <div class=\"review__title\">\n",
      "   <ul class=\"artist-list review__title-artist\">\n",
      "    <li>\n",
      "     Power Trip\n",
      "    </li>\n",
      "   </ul>\n",
      "   <h2 class=\"review__title-album\">\n",
      "    Opening Fire: 2008-2014\n",
      "   </h2>\n",
      "  </div>\n",
      " </a>\n",
      " <div class=\"review__meta\">\n",
      "  <ul class=\"genre-list genre-list--inline review__genre-list\">\n",
      "   <li class=\"genre-list__item\">\n",
      "    <a class=\"genre-list__link\" href=\"/reviews/albums/?genre=metal\">\n",
      "     Metal\n",
      "    </a>\n",
      "   </li>\n",
      "  </ul>\n",
      "  <ul class=\"authors\">\n",
      "   <li>\n",
      "    <a class=\"linked display-name display-name--linked\" href=\"/staff/andy-oconnor/\">\n",
      "     <span class=\"by\">\n",
      "      by:\n",
      "     </span>\n",
      "     Andy O'Connor\n",
      "    </a>\n",
      "   </li>\n",
      "  </ul>\n",
      "  <time class=\"pub-date\" datetime=\"2018-12-22T06:00:00\" title=\"Sat, 22 Dec 2018 06:00:00 GMT\">\n",
      "   December 22 2018\n",
      "  </time>\n",
      " </div>\n",
      "</div>\n",
      "\n"
     ]
    },
    {
     "data": {
      "text/plain": [
       "{'album': 'Opening Fire: 2008-2014',\n",
       " 'artist': 'Power Trip',\n",
       " 'genre': 'Metal',\n",
       " 'link': '/reviews/albums/power-trip-opening-fire-2008-2014/',\n",
       " 'published': '2018-12-22T06:00:00',\n",
       " 'full text': '',\n",
       " 'score': 0,\n",
       " 'year': 0,\n",
       " 'abstract': ''}"
      ]
     },
     "execution_count": 6,
     "metadata": {},
     "output_type": "execute_result"
    }
   ],
   "source": [
    "# print(soup.prettify())\n",
    "# need to get all div's with class name review  <div class=\"review\">\n",
    "reviews = soup.findAll(\"div\", {\"class\": \"review\"})\n",
    "print(len(reviews))\n",
    "\n",
    "# prints review metadata \n",
    "print(reviews[0].prettify())\n",
    "metadata = []\n",
    "for review in reviews:\n",
    "    metadata.append(getReviewData(review))\n",
    "    \n",
    "metadata[0]"
   ]
  },
  {
   "cell_type": "code",
   "execution_count": 7,
   "metadata": {},
   "outputs": [
    {
     "name": "stdout",
     "output_type": "stream",
     "text": [
      "0\n",
      "100\n",
      "200\n",
      "300\n",
      "400\n",
      "500\n",
      "600\n",
      "700\n",
      "800\n",
      "900\n",
      "1000\n",
      "1100\n",
      "1200\n",
      "1300\n",
      "1400\n",
      "1500\n",
      "1600\n",
      "1700\n",
      "n:  1730\n",
      "reviews fetched:  20758\n",
      "CPU times: user 9min 24s, sys: 8.74 s, total: 9min 33s\n",
      "Wall time: 29min 8s\n"
     ]
    }
   ],
   "source": [
    "# putting reviews fetched into a dataframe\n",
    "%time df = pd.DataFrame(scanReviews(1730))"
   ]
  },
  {
   "cell_type": "code",
   "execution_count": 10,
   "metadata": {},
   "outputs": [],
   "source": [
    "df.head(10)\n",
    "df.to_csv('without_reviews.csv')"
   ]
  },
  {
   "cell_type": "markdown",
   "metadata": {},
   "source": [
    "### Adding reviews to review metadata\n",
    "\n",
    "Each review grid in the latest reviews page has a link to the actual review. The next step is to get the editorial and abstract from this page. The abstract may be useful when making the summarizer because I can try abstractive vs extractive methods. "
   ]
  },
  {
   "cell_type": "code",
   "execution_count": 11,
   "metadata": {},
   "outputs": [],
   "source": [
    "# This causes an error but I know there is a review for this album\n",
    "# p = pitchfork_api.search(\"H.E.R.\", \"I Used to Know Her: Part 2 EP\") \n",
    "# pitchfork api seems to be kind of slow\n",
    "# trying to use autocorrect\n",
    "p = pitchfork_api.search(\"H.E.R.\", \"I Used to\") \n",
    "# This works "
   ]
  },
  {
   "cell_type": "code",
   "execution_count": 17,
   "metadata": {},
   "outputs": [
    {
     "name": "stdout",
     "output_type": "stream",
     "text": [
      "0\n",
      "0\n",
      "1000\n",
      "2000\n",
      "3000\n",
      "4000\n",
      "5000\n",
      "6000\n",
      "failed twice\n",
      "7000\n",
      "8000\n",
      "9000\n",
      "failed twice\n",
      "10000\n",
      "failed twice\n",
      "11000\n",
      "12000\n",
      "failed twice\n",
      "13000\n",
      "14000\n",
      "15000\n",
      "16000\n",
      "17000\n",
      "18000\n",
      "failed twice\n",
      "19000\n",
      "20000\n",
      "CPU times: user 2h 12min 40s, sys: 2min 3s, total: 2h 14min 43s\n",
      "Wall time: 8h 57min 52s\n"
     ]
    }
   ],
   "source": [
    "def getReviewFeatures(row):\n",
    "    if row.name%1000==0:\n",
    "        print(row.name)\n",
    "    try:\n",
    "        # try to access review using pitchfork api \n",
    "        p = pitchfork_api.search(row.artist, row.album) # the title is autocompleted\n",
    "        # adding missing review information to row in dataframe\n",
    "        row['score'] = p.score()\n",
    "        row['abstract'] = p.abstract()\n",
    "        row['full text'] = p.full_text()\n",
    "        row['year'] = p.year()\n",
    "    except:\n",
    "        # try to access review by link\n",
    "        end = row.link\n",
    "        baseUrl = \"https://pitchfork.com\"\n",
    "        goTo = baseUrl + end\n",
    "        try:\n",
    "            page = urllib.request.urlopen(goTo)\n",
    "            soup = BeautifulSoup(page, 'html.parser')\n",
    "            #full = soup.find(\"div\", {\"class\": \"review-detail__text clearfix\"})\n",
    "            review = soup.findAll(\"p\")\n",
    "            row['year'] = soup.find(class_='single-album-tombstone__meta-year').get_text()[3:]\n",
    "            row['abstract'] = soup.find(\"div\", {\"class\": \"review-detail__abstract\"}).text\n",
    "            row['score'] = soup.find(\"span\", {\"class\": \"score\"}).text\n",
    "            row['full text'] = [x.text for x in review]\n",
    "        except:\n",
    "            print(\"failed twice\")\n",
    "\n",
    "    return row\n",
    "\n",
    "\n",
    "# sending request for specific review n \n",
    "# page = urllib.request.urlopen(fullUrl)\n",
    "# soup = BeautifulSoup(page, 'html.parser')\n",
    "# inspecting HMTL structure\n",
    "# prints review metadata \n",
    "# print(soup.prettify())\n",
    "\n",
    "\n",
    "# pitchfork-api can also be used since we have artist and album name \n",
    "# apply function along rows\n",
    "%time df = df.apply(getReviewFeatures, axis=1)"
   ]
  },
  {
   "cell_type": "code",
   "execution_count": 18,
   "metadata": {},
   "outputs": [],
   "source": [
    "df.to_csv('full.csv')"
   ]
  },
  {
   "cell_type": "code",
   "execution_count": null,
   "metadata": {},
   "outputs": [],
   "source": []
  }
 ],
 "metadata": {
  "kernelspec": {
   "display_name": "Python 3",
   "language": "python",
   "name": "python3"
  },
  "language_info": {
   "codemirror_mode": {
    "name": "ipython",
    "version": 3
   },
   "file_extension": ".py",
   "mimetype": "text/x-python",
   "name": "python",
   "nbconvert_exporter": "python",
   "pygments_lexer": "ipython3",
   "version": "3.6.7"
  }
 },
 "nbformat": 4,
 "nbformat_minor": 2
}
